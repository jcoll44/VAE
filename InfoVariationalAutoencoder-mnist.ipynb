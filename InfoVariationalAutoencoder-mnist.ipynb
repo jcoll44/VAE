{
 "cells": [
  {
   "cell_type": "markdown",
   "id": "5844e620-36d3-44d8-8c6b-82265fae0b41",
   "metadata": {
    "tags": []
   },
   "source": [
    "# MMD-Variational Autoencoder\n",
    "\n",
    "The MMD-VAE is from the Info-VAE family and is another seminal progression that improves upon the traditional VAE. MMD-VAE does this by employing both mutual information maximization and the Maximum-Mean Discrepancy 'sudo' metric (discrepancy measures aren't actually metrics as they are not symmetric). The introduction od these methods overcome two of the shortcommings of the traditional estimated lower bound, particularly its ability to push the latent space far apart resulting in poor inference and its ability to learn a decoder (q(x|z)) that is unreliant on the latent space (z). \n"
   ]
  },
  {
   "cell_type": "markdown",
   "id": "914f9188-09fe-4b2b-abf9-44845a3b8665",
   "metadata": {},
   "source": [
    "## Pytorch Implementation\n",
    "\n",
    "Using pytorch and the mnist dataset.\n",
    "\n",
    "Import everything:"
   ]
  },
  {
   "cell_type": "code",
   "execution_count": 1,
   "id": "f4196124-94cb-4477-ba75-ce5bfbef0ae1",
   "metadata": {},
   "outputs": [],
   "source": [
    "import torch\n",
    "from torch import nn\n",
    "from torch.autograd import Variable\n",
    "from torch.utils.data import DataLoader,Dataset\n",
    "from torchvision import datasets\n",
    "from torchvision.transforms import ToTensor, Lambda\n",
    "import torchvision.models as models\n",
    "import time\n",
    "import numpy as np\n",
    "import matplotlib.pyplot as plt\n",
    "from tqdm import tqdm"
   ]
  },
  {
   "cell_type": "markdown",
   "id": "b14e019a-30e9-4e0f-b573-904ab3006664",
   "metadata": {},
   "source": [
    "Lets use weights and bisases. You will need an account.\n",
    "If running this on a cluster with jupyter nbconvert then you will have to add your wandb key as a environment variable in the container."
   ]
  },
  {
   "cell_type": "code",
   "execution_count": 2,
   "id": "95c6f48b-ea2e-459c-9844-545d145fe94a",
   "metadata": {},
   "outputs": [],
   "source": [
    "import wandb"
   ]
  },
  {
   "cell_type": "markdown",
   "id": "005bb5a1-6571-4885-b566-68b1e51a262c",
   "metadata": {},
   "source": [
    "Edit the below cell to setup project global variables"
   ]
  },
  {
   "cell_type": "code",
   "execution_count": 3,
   "id": "c56c7cbe-0599-4073-8b05-0ed9440a4a82",
   "metadata": {},
   "outputs": [
    {
     "name": "stderr",
     "output_type": "stream",
     "text": [
      "\u001b[34m\u001b[1mwandb\u001b[0m: Currently logged in as: \u001b[33mjcoll44\u001b[0m (use `wandb login --relogin` to force relogin)\n"
     ]
    },
    {
     "data": {
      "text/html": [
       "\n",
       "                    Syncing run <strong><a href=\"https://wandb.ai/jcoll44/MMD-VAE-MNIST/runs/s0bcc3lf\" target=\"_blank\">chocolate-paper-3</a></strong> to <a href=\"https://wandb.ai/jcoll44/MMD-VAE-MNIST\" target=\"_blank\">Weights & Biases</a> (<a href=\"https://docs.wandb.com/integrations/jupyter.html\" target=\"_blank\">docs</a>).<br/>\n",
       "\n",
       "                "
      ],
      "text/plain": [
       "<IPython.core.display.HTML object>"
      ]
     },
     "metadata": {},
     "output_type": "display_data"
    },
    {
     "name": "stdout",
     "output_type": "stream",
     "text": [
      "Using cuda device\n"
     ]
    }
   ],
   "source": [
    "#Variables\n",
    "batch_size = 32\n",
    "learning_rate = 1e-4\n",
    "epochs = 18\n",
    "input_size = 28*28\n",
    "latent_size = 2\n",
    "hidden_size = 512\n",
    "model_name = \"model_z2_1.pth\"\n",
    "weights_name = \"model_weights_z2_1.pth\"\n",
    "\n",
    "wandb.init(project=\"MMD-VAE-MNIST\",\n",
    "           config={\n",
    "               \"batch_size\": batch_size,\n",
    "               \"learning_rate\": learning_rate,\n",
    "               \"dataset\": \"MNIST\",\n",
    "           })\n",
    "\n",
    "#Beta specific parameters\n",
    "Beta = 4 #the value for beta used for the experiments in the paper.\n",
    "\n",
    "\n",
    "\n",
    "# Get cpu or gpu device for training.\n",
    "# device = \"cpu\"\n",
    "device = \"cuda\" if torch.cuda.is_available() else \"cpu\"\n",
    "print(f\"Using {device} device\")"
   ]
  },
  {
   "cell_type": "markdown",
   "id": "4dd11111-e45a-4573-8ad1-37a096cafc0e",
   "metadata": {},
   "source": [
    "Now, let's set up our MNIST dataset. This is a simple setup and uses built in functions that can be found almost line-for-line in the pytorch quickstart guide"
   ]
  },
  {
   "cell_type": "code",
   "execution_count": 4,
   "id": "29deb6e6-d912-4628-ba07-48d17c5a6970",
   "metadata": {},
   "outputs": [
    {
     "name": "stdout",
     "output_type": "stream",
     "text": [
      "Shape of X [N, C, H, W]:  torch.Size([32, 1, 28, 28])\n",
      "Shape of y:  torch.Size([32]) torch.int64\n"
     ]
    }
   ],
   "source": [
    "training_data = datasets.MNIST(\n",
    "    root=\"data\",\n",
    "    train=True,\n",
    "    download=True,\n",
    "    transform=ToTensor()\n",
    ")\n",
    "\n",
    "test_data = datasets.MNIST(\n",
    "    root=\"data\",\n",
    "    train=False,\n",
    "    download=True,\n",
    "    transform=ToTensor()\n",
    ")\n",
    "\n",
    "\n",
    "train_dataloader = DataLoader(training_data, batch_size, shuffle=True)\n",
    "test_dataloader = DataLoader(test_data, batch_size)\n",
    "\n",
    "#Printing data\n",
    "for X, y in test_dataloader:\n",
    "    print(\"Shape of X [N, C, H, W]: \", X.shape)\n",
    "    print(\"Shape of y: \", y.shape, y.dtype)\n",
    "    break"
   ]
  },
  {
   "cell_type": "markdown",
   "id": "cbf2d43b-7788-4361-9458-362efa849070",
   "metadata": {},
   "source": [
    "Now to create a class for the encoder and decoder."
   ]
  },
  {
   "cell_type": "code",
   "execution_count": 5,
   "id": "b0ea17f6-b28e-402e-a78b-917d10b1c0e8",
   "metadata": {},
   "outputs": [],
   "source": [
    "class EncoderNeuralNetwork(nn.Module):\n",
    "    def __init__(self,input_size, hidden_size):\n",
    "        super().__init__()\n",
    "        self.network = torch.nn.Sequential(\n",
    "            nn.Linear(input_size, hidden_size),\n",
    "            nn.ReLU(),\n",
    "            nn.Linear(hidden_size, hidden_size),\n",
    "            nn.ReLU(),\n",
    "        )\n",
    "        \n",
    "    def forward(self, x):\n",
    "        return self.network(x)\n",
    "    \n",
    "class DecoderNeuralNetwork(nn.Module):\n",
    "    def __init__(self,input_size, hidden_size, output_size):\n",
    "        super().__init__()\n",
    "        self.network = torch.nn.Sequential(\n",
    "            nn.Linear(input_size, hidden_size),\n",
    "            nn.ReLU(),\n",
    "            nn.Linear(hidden_size, hidden_size),\n",
    "            nn.ReLU(),\n",
    "            nn.Linear(hidden_size, output_size),      \n",
    "        )\n",
    "        \n",
    "    def forward(self, x):\n",
    "        return self.network(x)"
   ]
  },
  {
   "cell_type": "markdown",
   "id": "a59d8121-4b6d-4f3b-823e-a7a9f8f173c7",
   "metadata": {},
   "source": [
    "Now to instantiate our encoder and decoder classes to create a variational autoencoder.\n",
    "Up until here it is pretty easy to follow. This next bit is where the magic happens."
   ]
  },
  {
   "cell_type": "code",
   "execution_count": 6,
   "id": "5799603c-277a-4417-be90-323e21884c28",
   "metadata": {},
   "outputs": [],
   "source": [
    "class VAE(nn.Module):\n",
    "    def __init__(self, input_size, hidden_size, latent_size):\n",
    "        super().__init__()\n",
    "        self.encoder = EncoderNeuralNetwork(input_size, hidden_size)\n",
    "        self.decoder = DecoderNeuralNetwork(latent_size, hidden_size, input_size)\n",
    "        \n",
    "        # Parameters for decoding the output of the encoder\n",
    "        self.fc_mu = nn.Linear(hidden_size, latent_size) #mu is the mean\n",
    "        self.fc_var = nn.Linear(hidden_size, latent_size) #var is the variance\n",
    "        \n",
    "        self.latent_size = latent_size\n",
    "        \n",
    "        # for the gaussian likelihood\n",
    "        self.log_scale = nn.Parameter(torch.Tensor([0.0]))\n",
    "\n",
    "    def gaussian_likelihood(self, x_hat, logscale, x):\n",
    "        scale = torch.exp(logscale)\n",
    "        mean = x_hat\n",
    "        dist = torch.distributions.Normal(mean, scale)\n",
    "\n",
    "        # measure prob of seeing image under p(x|z)\n",
    "        log_pxz = dist.log_prob(x)\n",
    "        return log_pxz.sum(-1)\n",
    "    \n",
    "    def compute_kernel(self, x, y):\n",
    "        x_size = x.size(0)\n",
    "        y_size = y.size(0)\n",
    "        dim = x.size(1)\n",
    "        x = torch.unsqueeze(x,1) # (x_size, 1, dim) Returns a new tensor with a dimension of size one inserted at the specified position.\n",
    "        y = torch.unsqueeze(y,0) # (1, y_size, dim) Returns a new tensor with a dimension of size one inserted at the specified position.\n",
    "        tiled_x = x.expand(x_size, y_size, dim)\n",
    "        tiled_y = y.expand(x_size, y_size, dim)\n",
    "        dim = torch.tensor([float(dim)]).to(device)\n",
    "        kernel_input = torch.mean(torch.pow((tiled_x - tiled_y),2), dim =2)/dim\n",
    "        return torch.exp(-kernel_input) # (x_size, y_size)\n",
    "        \n",
    "\n",
    "    def mmd_divergence(self, x, y):\n",
    "        #This is the MMD computation\n",
    "        x_kernel = self.compute_kernel(x, x)\n",
    "        y_kernel = self.compute_kernel(y, y)\n",
    "        xy_kernel = self.compute_kernel(x, y)\n",
    "        mmd = x_kernel.mean() + y_kernel.mean() - 2*xy_kernel.mean()\n",
    "\n",
    "        return mmd \n",
    "    \n",
    "    def encode(self, x):\n",
    "        #Encoder otherwise known as q. Pass x through it.\n",
    "        encoded_x = self.encoder(x)\n",
    "        \n",
    "        #Use the encoding to find the mean and variance\n",
    "        mu, log_var = self.fc_mu(encoded_x), self.fc_var(encoded_x)\n",
    "        \n",
    "        # sample z from q\n",
    "        std = torch.exp(log_var / 2)\n",
    "        q = torch.distributions.Normal(mu, std)\n",
    "        z = q.rsample()\n",
    "        \n",
    "        return z, mu, std\n",
    "    \n",
    "    def decode(self, z):\n",
    "        return self.decoder(z)\n",
    "        \n",
    "    def forward(self, x):\n",
    "\n",
    "        #Encode x to find z\n",
    "        z, mu, std = self.encode(x)\n",
    "        \n",
    "        # decode the latent space, otherwise known as the function p.\n",
    "        # x_hat because this is the new x\n",
    "        x_hat = self.decode(z)\n",
    "        \n",
    "        # Calculate the ELBO loss. Remember the two parts....1 Reconstruction Loss and 2 KL divergence\n",
    "        # 1 reconstruction loss\n",
    "        recon_loss = self.gaussian_likelihood(x_hat, self.log_scale, x)\n",
    "        recon_loss = torch.mean(recon_loss*-1)\n",
    "        \n",
    "        # 2 MMD divergence\n",
    "        #first sample from the target distribution - \n",
    "        #we sample 200 random numbers from a guassian distribution mean:0 var:1\n",
    "        target_samples = Variable(torch.randn(200, self.latent_size),\n",
    "                                requires_grad=False).to(device)\n",
    "        mmd = self.mmd_divergence(target_samples, z).mean()\n",
    "        \n",
    "        #Evidence lower bound\n",
    "        elbo = recon_loss + mmd\n",
    "        elbo = elbo.mean()\n",
    "        \n",
    "        return elbo, recon_loss, mmd, x_hat, z\n",
    "    \n"
   ]
  },
  {
   "cell_type": "markdown",
   "id": "1d8670ae-f3f3-4ba1-91af-4d60b37b25e7",
   "metadata": {},
   "source": [
    "Now that we have the VAE class we can go about setting up training and testing functions."
   ]
  },
  {
   "cell_type": "code",
   "execution_count": 7,
   "id": "94230316-153c-4974-8e4e-565c12c4649f",
   "metadata": {},
   "outputs": [
    {
     "name": "stdout",
     "output_type": "stream",
     "text": [
      "VAE(\n",
      "  (encoder): EncoderNeuralNetwork(\n",
      "    (network): Sequential(\n",
      "      (0): Linear(in_features=784, out_features=512, bias=True)\n",
      "      (1): ReLU()\n",
      "      (2): Linear(in_features=512, out_features=512, bias=True)\n",
      "      (3): ReLU()\n",
      "    )\n",
      "  )\n",
      "  (decoder): DecoderNeuralNetwork(\n",
      "    (network): Sequential(\n",
      "      (0): Linear(in_features=2, out_features=512, bias=True)\n",
      "      (1): ReLU()\n",
      "      (2): Linear(in_features=512, out_features=512, bias=True)\n",
      "      (3): ReLU()\n",
      "      (4): Linear(in_features=512, out_features=784, bias=True)\n",
      "    )\n",
      "  )\n",
      "  (fc_mu): Linear(in_features=512, out_features=2, bias=True)\n",
      "  (fc_var): Linear(in_features=512, out_features=2, bias=True)\n",
      ")\n"
     ]
    }
   ],
   "source": [
    "model = VAE(input_size = input_size, hidden_size = hidden_size, latent_size = latent_size).to(device)\n",
    "print(model)\n",
    "\n",
    "optimizer = torch.optim.Adam(model.parameters(), lr=learning_rate)\n",
    "\n",
    "def train(dataloader, model, optimizer):\n",
    "    size = len(dataloader.dataset)\n",
    "    model.train()\n",
    "    model.zero_grad()\n",
    "    for (image, _) in dataloader:\n",
    "    # for batch, (X, y) in enumerate(dataloader):\n",
    "    \n",
    "        # Compute prediction and loss\n",
    "        image = image.reshape(-1, 28*28)\n",
    "        image = image.to(device)\n",
    "        # X, y = X.to(device), y.to(device)\n",
    "        optimizer.zero_grad()\n",
    "\n",
    "        elbo, recon_loss, mmd,  x_hat, z = model(image)\n",
    "        loss = elbo\n",
    "\n",
    "        # Backpropagation\n",
    "        loss.backward()\n",
    "        optimizer.step()\n",
    "        \n",
    "def test(dataloader, model):\n",
    "    size = len(dataloader.dataset)\n",
    "    num_batches = len(dataloader)\n",
    "    test_loss= 0\n",
    "    mmd_loss= 0\n",
    "    recon_loss= 0\n",
    "\n",
    "    with torch.no_grad():\n",
    "        for X, y in dataloader:\n",
    "            image = X.reshape(-1, 28*28)\n",
    "            image = image.to(device)\n",
    "            elbo, recon, mmd, x_hat, z = model(image)\n",
    "            test_loss += elbo\n",
    "            mmd_loss += mmd\n",
    "            recon_loss += recon\n",
    "            \n",
    "    \n",
    "    test_loss_avg = test_loss/num_batches\n",
    "    mmd_loss /= num_batches\n",
    "    recon_loss /= num_batches\n",
    "    wandb.log({\"loss\": test_loss_avg, \n",
    "               \"elbo\": test_loss, \n",
    "               \"mmd\": mmd_loss,\n",
    "               \"reconstruction\": recon_loss\n",
    "              })\n",
    "    wandb.watch(model)\n",
    "    return test_loss_avg\n",
    "    "
   ]
  },
  {
   "cell_type": "markdown",
   "id": "83729a53-a78b-4a75-8dd4-51d380c75fbb",
   "metadata": {},
   "source": [
    "Train our model and use the test dataset to plot the loss and other significant values."
   ]
  },
  {
   "cell_type": "code",
   "execution_count": 8,
   "id": "f20e9b26-d13f-437a-95d6-22cfc2c1fa6e",
   "metadata": {},
   "outputs": [
    {
     "data": {
      "text/html": [
       "<iframe src=\"https://wandb.ai/jcoll44/MMD-VAE-MNIST/runs/s0bcc3lf?jupyter=true\" style=\"border:none;width:100%;height:420px;\"></iframe>"
      ],
      "text/plain": [
       "<wandb.jupyter.IFrame at 0x7f9c60c73610>"
      ]
     },
     "metadata": {},
     "output_type": "display_data"
    },
    {
     "name": "stdout",
     "output_type": "stream",
     "text": [
      "Epoch 1\n",
      "-------------------------------\n",
      "Avg loss: 599.982483 \n",
      "\n",
      "Done!\n",
      "GPU time 212.2602 seconds\n"
     ]
    }
   ],
   "source": [
    "%%wandb\n",
    "\n",
    "#Timing the hardware difference\n",
    "tic = time.perf_counter()\n",
    "\n",
    "for t in range(epochs):\n",
    "    train(train_dataloader, model, optimizer)\n",
    "    test_loss = test(test_dataloader, model)\n",
    "    if t%20==0:\n",
    "        print(f\"Epoch {t+1}\\n-------------------------------\")    \n",
    "        print(f\"Avg loss: {test_loss:>8f} \\n\")\n",
    "print(\"Done!\")\n",
    "\n",
    "toc = time.perf_counter()\n",
    "if {device} == \"cpu\":\n",
    "    print(f\"CPU time {toc - tic:0.4f} seconds\")\n",
    "else:\n",
    "    print(f\"GPU time {toc - tic:0.4f} seconds\")"
   ]
  },
  {
   "cell_type": "markdown",
   "id": "23aaccd3-2b3e-4bf4-bdc0-e2345d3fdd06",
   "metadata": {},
   "source": [
    "Now that we have trained our model we should save the model and the model weights."
   ]
  },
  {
   "cell_type": "code",
   "execution_count": 9,
   "id": "d7bb403d-5433-455e-81fc-830bc2bc28f2",
   "metadata": {},
   "outputs": [],
   "source": [
    "torch.save(model, model_name)\n",
    "torch.save(model.state_dict(), weights_name)"
   ]
  },
  {
   "cell_type": "markdown",
   "id": "9452314a-9795-4890-be76-59c4b6c4c26e",
   "metadata": {},
   "source": [
    "## Plotting and Visualisation"
   ]
  },
  {
   "cell_type": "markdown",
   "id": "b2fada54-da6b-4b42-9748-bbef2edaac69",
   "metadata": {},
   "source": [
    "Lets begin our visualisation by plotting some randomly chosen numbers before reconstruction and after reconstruction."
   ]
  },
  {
   "cell_type": "code",
   "execution_count": 10,
   "id": "2814d1e8-2297-4abc-be0a-37a1ee7e0bd0",
   "metadata": {},
   "outputs": [
    {
     "data": {
      "image/png": "[encoded data removed]",
      "text/plain": [
       "<Figure size 1152x576 with 12 Axes>"
      ]
     },
     "metadata": {
      "needs_background": "light"
     },
     "output_type": "display_data"
    }
   ],
   "source": [
    "figure = plt.figure(figsize=(16, 8))\n",
    "cols, rows = 6, 2\n",
    "for i in range(1, cols +1):\n",
    "    sample_idx = torch.randint(len(training_data), size=(1,)).item()\n",
    "    img, label = training_data[sample_idx]\n",
    "    image = img.reshape(-1, 28*28)\n",
    "    image = image.to(device)\n",
    "    elbo, recon, mmd, x_hat, z = model(image)\n",
    "    pred = x_hat.to(\"cpu\")\n",
    "    pred = pred.detach().numpy()\n",
    "    figure.add_subplot(rows, cols, i)\n",
    "    plt.title(\"Real\")\n",
    "    plt.axis(\"off\")\n",
    "    plt.imshow(img.squeeze(), cmap=\"gray\")\n",
    "    figure.add_subplot(rows, cols, i+cols)\n",
    "    plt.title(\"Decoded\")\n",
    "    plt.axis(\"off\")\n",
    "    plt.imshow(pred.reshape(1,28,28).transpose(1, 2, 0), cmap=\"gray\")\n",
    "plt.show()"
   ]
  },
  {
   "cell_type": "markdown",
   "id": "32cd6ad1-c8ed-48e6-abef-bd7466d8bd4f",
   "metadata": {},
   "source": [
    "Now lets investigate the latent space further. The plot below shows the latent space and where different MNIST numbers are located within it. They should be clustered by their number and centrally located around 0 as we directed them to be."
   ]
  },
  {
   "cell_type": "code",
   "execution_count": null,
   "id": "7e3f0be1-958c-4b75-8aad-8886c49c9380",
   "metadata": {},
   "outputs": [],
   "source": [
    "def plot_latent(model, dataloader, num_batches=100):\n",
    "    for (image, y) in dataloader:\n",
    "        image = image.reshape(-1, 28*28)\n",
    "        image = image.to(device)\n",
    "        elbo, recon, mmd, x_hat, z = model(image)\n",
    "        z = z.to('cpu').detach().numpy()\n",
    "        plt.scatter(z[:, 0], z[:, 1], c=y, cmap='tab10')\n",
    "\n",
    "    plt.colorbar()\n",
    "            \n",
    "plot_latent(model, train_dataloader)"
   ]
  },
  {
   "cell_type": "markdown",
   "id": "41ee3f8e-4594-4507-babe-4d378794a766",
   "metadata": {},
   "source": [
    "Now lets do a linear interpolation between all the number, i.e. 1->2, 2->3 etc.\n",
    "We can do this by taking the latent space of 2 numbers (e.g. 1 and 2) and calculating the latent vector halfway between them."
   ]
  },
  {
   "cell_type": "code",
   "execution_count": null,
   "id": "99d8b555-27c5-4418-80a2-82f78296c47f",
   "metadata": {},
   "outputs": [],
   "source": [
    "number_array = []\n",
    "figure = plt.figure(figsize=(25, 12))\n",
    "cols, rows = 10 , 3\n",
    "\n",
    "for k in range(10):\n",
    "    for (image, y) in training_data:\n",
    "        if y==k:\n",
    "            number_array.append(image)\n",
    "            break\n",
    "    \n",
    "for l in range(1,10):\n",
    "    number_a = number_array[l-1].reshape(-1, 28*28)\n",
    "    number_a = number_a.to(device)\n",
    "    elbo, recon, mmd, x_hat_a, z_a = model(number_a)\n",
    "    \n",
    "    number_b = number_array[l].reshape(-1, 28*28)\n",
    "    number_b = number_b.to(device)\n",
    "    elbo, recon, mmd, x_hat_b, z_b = model(number_b)\n",
    "    \n",
    "    figure.add_subplot(rows, cols, l)\n",
    "    plt.title(str(l-1))\n",
    "    plt.axis(\"off\")\n",
    "    plt.imshow(x_hat_a.to(\"cpu\").detach().numpy().reshape(1,28,28).transpose(1, 2, 0), cmap=\"gray\")\n",
    "    \n",
    "    figure.add_subplot(rows, cols, l+(cols*2))\n",
    "    plt.title(str(l))\n",
    "    plt.axis(\"off\")\n",
    "    plt.imshow(x_hat_b.to(\"cpu\").detach().numpy().reshape(1,28,28).transpose(1, 2, 0), cmap=\"gray\")\n",
    "    \n",
    "    z_c = z_a*0.5 + z_b*0.5\n",
    "    number_c = z_c.to(device)\n",
    "    x_hat = model.decode(number_c)\n",
    "    figure.add_subplot(rows, cols, l+(cols))\n",
    "    plt.title(str(l-1)+\" merged with \"+str(l))\n",
    "    plt.axis(\"off\")\n",
    "    plt.imshow(x_hat.to(\"cpu\").detach().numpy().reshape(1,28,28).transpose(1, 2, 0), cmap=\"gray\")\n",
    "    \n",
    "plt.show()"
   ]
  },
  {
   "cell_type": "markdown",
   "id": "17258f5c-6366-43ee-8952-e3e46ab54146",
   "metadata": {},
   "source": [
    "For our last visualisation lets produce a square \"walk\" around the latent space. This is similar to the plot_latent() function above although with images rather than a scatter plot."
   ]
  },
  {
   "cell_type": "code",
   "execution_count": null,
   "id": "89f317d0-bd4a-47a4-a2a0-c60558c0b752",
   "metadata": {},
   "outputs": [],
   "source": [
    "def plot_reconstructed(autoencoder, r0=(-6, 5), r1=(-6, 5), n=12):\n",
    "    w = 28\n",
    "    img = np.zeros((n*w, n*w))\n",
    "    for i, y in enumerate(np.linspace(*r1, n)):\n",
    "        for j, x in enumerate(np.linspace(*r0, n)):\n",
    "            z = torch.Tensor([[x, y]]).to(device)\n",
    "            x_hat = autoencoder.decoder(z)\n",
    "            x_hat = x_hat.reshape(28, 28).to('cpu').detach().numpy()\n",
    "            img[(n-1-i)*w:(n-1-i+1)*w, j*w:(j+1)*w] = x_hat\n",
    "    plt.imshow(img, extent=[*r0, *r1], cmap=\"gray\")\n",
    "    \n",
    "plot_reconstructed(model2, (-6, 5), (-6, 5), 12)"
   ]
  },
  {
   "cell_type": "markdown",
   "id": "8c1f64c8-e60f-454c-a401-a169ce45a822",
   "metadata": {},
   "source": [
    "If we wanted to reload the model at a latter date we could do so with the code below. Just make sure to run the classes up above first."
   ]
  },
  {
   "cell_type": "code",
   "execution_count": null,
   "id": "0b9846ec-3ab3-4e93-b855-b94b241d095f",
   "metadata": {},
   "outputs": [],
   "source": [
    "# Model class must be defined somewhere\n",
    "model = torch.load(model_name)\n",
    "model.load_state_dict(torch.load(weights_name))\n",
    "model.eval()"
   ]
  }
 ],
 "metadata": {
  "kernelspec": {
   "display_name": "Python 3 (ipykernel)",
   "language": "python",
   "name": "python3"
  },
  "language_info": {
   "codemirror_mode": {
    "name": "ipython",
    "version": 3
   },
   "file_extension": ".py",
   "mimetype": "text/x-python",
   "name": "python",
   "nbconvert_exporter": "python",
   "pygments_lexer": "ipython3",
   "version": "3.9.5"
  }
 },
 "nbformat": 4,
 "nbformat_minor": 5
}

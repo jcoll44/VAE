{
 "cells": [
  {
   "cell_type": "markdown",
   "id": "3610d39a-715f-4a37-ae6c-7466e3f59eb7",
   "metadata": {},
   "source": [
    "# Beta-Variational Autoencoder\n",
    "\n",
    "The Beta-VAE is an intuitively simple extension on the typical VAE that enhances the \"disentanglement\" of the latent space by placing greater importance on the KL divergence term in the loss function using the parameter beta.\n"
   ]
  },
  {
   "cell_type": "markdown",
   "id": "2139e45d-bac1-4c00-9ef1-7551529302e2",
   "metadata": {},
   "source": [
    "## Pytorch Implementation\n",
    "\n",
    "Using pytorch and the mnist dataset.\n",
    "\n",
    "Import everything:"
   ]
  },
  {
   "cell_type": "code",
   "execution_count": 1,
   "id": "d92341ef-6c61-4cdd-9bf5-ae592b26c778",
   "metadata": {},
   "outputs": [],
   "source": [
    "import torch\n",
    "from torch import nn\n",
    "from torch.utils.data import DataLoader,Dataset\n",
    "from torchvision import datasets\n",
    "from torchvision.transforms import ToTensor, Lambda\n",
    "import torchvision.models as models\n",
    "import time\n",
    "import numpy as np\n",
    "import matplotlib.pyplot as plt\n",
    "from tqdm import tqdm"
   ]
  },
  {
   "cell_type": "markdown",
   "id": "6b2efc33-064b-4b19-9ec0-ac2870dd318e",
   "metadata": {},
   "source": [
    "Lets use weights and bisases. You will need an account.\n",
    "If running this on a cluster with jupyter nbconvert then you will have to add your wandb key as a environment variable in the container."
   ]
  },
  {
   "cell_type": "code",
   "execution_count": 2,
   "id": "0762ff01-037b-4079-8e42-e69c8a96341a",
   "metadata": {},
   "outputs": [],
   "source": [
    "import wandb"
   ]
  },
  {
   "cell_type": "markdown",
   "id": "7ea5b00f-408c-4041-9adf-dcf7a912fbaf",
   "metadata": {},
   "source": [
    "Edit the below cell to setup project global variables"
   ]
  },
  {
   "cell_type": "code",
   "execution_count": 3,
   "id": "0505fd44-ebd0-46e5-9b8e-b10be81bf4a8",
   "metadata": {},
   "outputs": [
    {
     "name": "stderr",
     "output_type": "stream",
     "text": [
      "\u001b[34m\u001b[1mwandb\u001b[0m: Currently logged in as: \u001b[33mjcoll44\u001b[0m (use `wandb login --relogin` to force relogin)\n"
     ]
    },
    {
     "data": {
      "text/html": [
       "\n",
       "                    Syncing run <strong><a href=\"https://wandb.ai/jcoll44/VariationalAutoencoder/runs/2evk4bj4\" target=\"_blank\">fragrant-glade-62</a></strong> to <a href=\"https://wandb.ai/jcoll44/VariationalAutoencoder\" target=\"_blank\">Weights & Biases</a> (<a href=\"https://docs.wandb.com/integrations/jupyter.html\" target=\"_blank\">docs</a>).<br/>\n",
       "\n",
       "                "
      ],
      "text/plain": [
       "<IPython.core.display.HTML object>"
      ]
     },
     "metadata": {},
     "output_type": "display_data"
    },
    {
     "name": "stdout",
     "output_type": "stream",
     "text": [
      "Using cuda device\n"
     ]
    }
   ],
   "source": [
    "#Variables\n",
    "batch_size = 32\n",
    "learning_rate = 1e-4\n",
    "epochs = 18\n",
    "input_size = 28*28\n",
    "latent_size = 2\n",
    "hidden_size = 512\n",
    "model_name = \"model_z2_1.pth\"\n",
    "weights_name = \"model_weights_z2_1.pth\"\n",
    "\n",
    "wandb.init(project=\"Beta-VAE-MNIST\",\n",
    "           config={\n",
    "               \"batch_size\": batch_size,\n",
    "               \"learning_rate\": learning_rate,\n",
    "               \"dataset\": \"MNIST\",\n",
    "           })\n",
    "\n",
    "#Beta specific parameters\n",
    "Beta = 4 #the value for beta used for the experiments in the paper.\n",
    "\n",
    "\n",
    "\n",
    "# Get cpu or gpu device for training.\n",
    "# device = \"cpu\"\n",
    "device = \"cuda\" if torch.cuda.is_available() else \"cpu\"\n",
    "print(f\"Using {device} device\")"
   ]
  },
  {
   "cell_type": "markdown",
   "id": "df5dfb20-2a61-4365-ba09-49e611a9b75d",
   "metadata": {},
   "source": [
    "Now, let's set up our MNIST dataset. This is a simple setup and uses built in functions that can be found almost line-for-line in the pytorch quickstart guide"
   ]
  },
  {
   "cell_type": "code",
   "execution_count": 4,
   "id": "ddefba48-92c5-49cd-8839-a241c55929f1",
   "metadata": {},
   "outputs": [
    {
     "name": "stdout",
     "output_type": "stream",
     "text": [
      "Shape of X [N, C, H, W]:  torch.Size([32, 1, 28, 28])\n",
      "Shape of y:  torch.Size([32]) torch.int64\n"
     ]
    }
   ],
   "source": [
    "training_data = datasets.MNIST(\n",
    "    root=\"data\",\n",
    "    train=True,\n",
    "    download=True,\n",
    "    transform=ToTensor()\n",
    ")\n",
    "\n",
    "test_data = datasets.MNIST(\n",
    "    root=\"data\",\n",
    "    train=False,\n",
    "    download=True,\n",
    "    transform=ToTensor()\n",
    ")\n",
    "\n",
    "\n",
    "train_dataloader = DataLoader(training_data, batch_size, shuffle=True)\n",
    "test_dataloader = DataLoader(test_data, batch_size)\n",
    "\n",
    "#Printing data\n",
    "for X, y in test_dataloader:\n",
    "    print(\"Shape of X [N, C, H, W]: \", X.shape)\n",
    "    print(\"Shape of y: \", y.shape, y.dtype)\n",
    "    break"
   ]
  },
  {
   "cell_type": "markdown",
   "id": "0f4b2d22-eac4-4a0b-978f-ba01fe67d22c",
   "metadata": {},
   "source": [
    "Now to create a class for the encoder and decoder."
   ]
  },
  {
   "cell_type": "code",
   "execution_count": 5,
   "id": "35b6df23-3dcc-45de-8444-e1c47bce1b92",
   "metadata": {},
   "outputs": [],
   "source": [
    "class EncoderNeuralNetwork(nn.Module):\n",
    "    def __init__(self,input_size, hidden_size):\n",
    "        super().__init__()\n",
    "        self.network = torch.nn.Sequential(\n",
    "            nn.Linear(input_size, hidden_size),\n",
    "            nn.ReLU(),\n",
    "            nn.Linear(hidden_size, hidden_size),\n",
    "            nn.ReLU(),\n",
    "        )\n",
    "        \n",
    "    def forward(self, x):\n",
    "        return self.network(x)\n",
    "    \n",
    "class DecoderNeuralNetwork(nn.Module):\n",
    "    def __init__(self,input_size, hidden_size, output_size):\n",
    "        super().__init__()\n",
    "        self.network = torch.nn.Sequential(\n",
    "            nn.Linear(input_size, hidden_size),\n",
    "            nn.ReLU(),\n",
    "            nn.Linear(hidden_size, hidden_size),\n",
    "            nn.ReLU(),\n",
    "            nn.Linear(hidden_size, output_size),      \n",
    "        )\n",
    "        \n",
    "    def forward(self, x):\n",
    "        return self.network(x)"
   ]
  },
  {
   "cell_type": "markdown",
   "id": "85210ae7-efa6-4941-bac8-69baa708570c",
   "metadata": {},
   "source": [
    "Now to instantiate our encoder and decoder classes to create a variational autoencoder.\n",
    "Up until here it is pretty easy to follow. This next bit is where the magic happens.\n",
    "Look for the *Beta line in the forward() method."
   ]
  },
  {
   "cell_type": "code",
   "execution_count": 6,
   "id": "23a210de-6100-445e-b670-f0bf9254e7be",
   "metadata": {},
   "outputs": [],
   "source": [
    "class VAE(nn.Module):\n",
    "    def __init__(self, input_size, hidden_size, latent_size):\n",
    "        super().__init__()\n",
    "        self.encoder = EncoderNeuralNetwork(input_size, hidden_size)\n",
    "        self.decoder = DecoderNeuralNetwork(latent_size, hidden_size, input_size)\n",
    "        \n",
    "        # Parameters for decoding the output of the encoder\n",
    "        self.fc_mu = nn.Linear(hidden_size, latent_size) #mu is the mean\n",
    "        self.fc_var = nn.Linear(hidden_size, latent_size) #var is the variance\n",
    "        \n",
    "        # for the gaussian likelihood\n",
    "        self.log_scale = nn.Parameter(torch.Tensor([0.0]))\n",
    "\n",
    "    def gaussian_likelihood(self, x_hat, logscale, x):\n",
    "        scale = torch.exp(logscale)\n",
    "        mean = x_hat\n",
    "        dist = torch.distributions.Normal(mean, scale)\n",
    "\n",
    "        # measure prob of seeing image under p(x|z)\n",
    "        log_pxz = dist.log_prob(x)\n",
    "        return log_pxz.sum(-1)\n",
    "\n",
    "    def kl_divergence(self, z, mu, std):\n",
    "        # --------------------------\n",
    "        # Monte carlo KL divergence\n",
    "        # --------------------------\n",
    "        # 1. define the first two probabilities (in this case Normal for both)\n",
    "        p = torch.distributions.Normal(torch.zeros_like(mu), torch.ones_like(std))\n",
    "        q = torch.distributions.Normal(mu, std)\n",
    "\n",
    "        # 2. get the probabilities from the equation\n",
    "        log_qzx = q.log_prob(z)\n",
    "        log_pz = p.log_prob(z)\n",
    "\n",
    "        # kl\n",
    "        kl = (log_qzx - log_pz)\n",
    "        kl = kl.sum(-1)\n",
    "        return kl \n",
    "    \n",
    "    def encode(self, x):\n",
    "        #Encoder otherwise known as q. Pass x through it.\n",
    "        encoded_x = self.encoder(x)\n",
    "        \n",
    "        #Use the encoding to find the mean and variance\n",
    "        mu, log_var = self.fc_mu(encoded_x), self.fc_var(encoded_x)\n",
    "        \n",
    "        # sample z from q\n",
    "        std = torch.exp(log_var / 2)\n",
    "        q = torch.distributions.Normal(mu, std)\n",
    "        z = q.rsample()\n",
    "        \n",
    "        return z, mu, std\n",
    "    \n",
    "    def decode(self, z):\n",
    "        return self.decoder(z)\n",
    "        \n",
    "    def forward(self, x):\n",
    "\n",
    "        #Encode x to find z\n",
    "        z, mu, std = self.encode(x)\n",
    "        \n",
    "        # decode the latent space, otherwise known as the function p.\n",
    "        # x_hat because this is the new x\n",
    "        x_hat = self.decode(z)\n",
    "        \n",
    "        # Calculate the ELBO loss. Remember the two parts....1 Reconstruction Loss and 2 KL divergence\n",
    "        # 1 reconstruction loss\n",
    "        recon_loss = self.gaussian_likelihood(x_hat, self.log_scale, x)\n",
    "        recon_loss = recon_loss*-1\n",
    "        \n",
    "        # 2 KL divergence\n",
    "        # In this notebook we are replicating beta VAE\n",
    "        kl = self.kl_divergence(z, mu, std)*Beta\n",
    "        \n",
    "        #Evidence lower bound\n",
    "        elbo = recon_loss + kl\n",
    "        elbo = elbo.mean()\n",
    "        \n",
    "        return elbo, recon_loss.mean(), kl.mean(),  x_hat, z\n",
    "    \n"
   ]
  },
  {
   "cell_type": "markdown",
   "id": "738222b4-0e8d-4ef8-ab36-3c8ababdabc9",
   "metadata": {},
   "source": [
    "Now that we have the VAE class we can go about setting up training and testing functions."
   ]
  },
  {
   "cell_type": "code",
   "execution_count": 7,
   "id": "fa750f18-1087-47af-a0bf-811bf3887449",
   "metadata": {},
   "outputs": [
    {
     "name": "stdout",
     "output_type": "stream",
     "text": [
      "VAE(\n",
      "  (encoder): EncoderNeuralNetwork(\n",
      "    (network): Sequential(\n",
      "      (0): Linear(in_features=784, out_features=512, bias=True)\n",
      "      (1): ReLU()\n",
      "      (2): Linear(in_features=512, out_features=512, bias=True)\n",
      "      (3): ReLU()\n",
      "    )\n",
      "  )\n",
      "  (decoder): DecoderNeuralNetwork(\n",
      "    (network): Sequential(\n",
      "      (0): Linear(in_features=2, out_features=512, bias=True)\n",
      "      (1): ReLU()\n",
      "      (2): Linear(in_features=512, out_features=512, bias=True)\n",
      "      (3): ReLU()\n",
      "      (4): Linear(in_features=512, out_features=784, bias=True)\n",
      "    )\n",
      "  )\n",
      "  (fc_mu): Linear(in_features=512, out_features=2, bias=True)\n",
      "  (fc_var): Linear(in_features=512, out_features=2, bias=True)\n",
      ")\n"
     ]
    }
   ],
   "source": [
    "model = VAE(input_size = input_size, hidden_size = hidden_size, latent_size = latent_size).to(device)\n",
    "print(model)\n",
    "\n",
    "optimizer = torch.optim.Adam(model.parameters(), lr=learning_rate)\n",
    "\n",
    "def train(dataloader, model, optimizer):\n",
    "    size = len(dataloader.dataset)\n",
    "    model.train()\n",
    "    model.zero_grad()\n",
    "    for (image, _) in dataloader:\n",
    "    # for batch, (X, y) in enumerate(dataloader):\n",
    "    \n",
    "        # Compute prediction and loss\n",
    "        image = image.reshape(-1, 28*28)\n",
    "        image = image.to(device)\n",
    "        # X, y = X.to(device), y.to(device)\n",
    "        optimizer.zero_grad()\n",
    "\n",
    "        elbo, recon_loss, kl,  x_hat, z = model(image)\n",
    "        loss = elbo\n",
    "\n",
    "        # Backpropagation\n",
    "        loss.backward()\n",
    "        optimizer.step()\n",
    "        \n",
    "def test(dataloader, model):\n",
    "    size = len(dataloader.dataset)\n",
    "    num_batches = len(dataloader)\n",
    "    test_loss= 0\n",
    "    kl_loss= 0\n",
    "    recon_loss= 0\n",
    "\n",
    "    with torch.no_grad():\n",
    "        for X, y in dataloader:\n",
    "            image = X.reshape(-1, 28*28)\n",
    "            image = image.to(device)\n",
    "            elbo, recon, kl, x_hat, z = model(image)\n",
    "            test_loss += elbo\n",
    "            kl_loss += kl\n",
    "            recon_loss += recon\n",
    "            \n",
    "    \n",
    "    test_loss_avg = test_loss/num_batches\n",
    "    kl_loss /= num_batches\n",
    "    recon_loss /= num_batches\n",
    "    wandb.log({\"loss\": test_loss_avg, \n",
    "               \"elbo\": test_loss, \n",
    "               \"kl\": kl_loss,\n",
    "               \"reconstruction\": recon_loss\n",
    "              })\n",
    "    wandb.watch(model)\n",
    "    return test_loss_avg\n",
    "    "
   ]
  },
  {
   "cell_type": "markdown",
   "id": "f4a28797-fd5a-48b0-87ec-cdd2c01f36dd",
   "metadata": {},
   "source": [
    "Train our model and use the test dataset to plot the loss and other significant values."
   ]
  },
  {
   "cell_type": "code",
   "execution_count": 8,
   "id": "dee52fc5-c67c-4e00-b149-936e583adf10",
   "metadata": {},
   "outputs": [
    {
     "data": {
      "text/html": [
       "<iframe src=\"https://wandb.ai/jcoll44/VariationalAutoencoder/runs/2evk4bj4?jupyter=true\" style=\"border:none;width:100%;height:420px;\"></iframe>"
      ],
      "text/plain": [
       "<wandb.jupyter.IFrame at 0x7fd128357be0>"
      ]
     },
     "metadata": {},
     "output_type": "display_data"
    },
    {
     "name": "stdout",
     "output_type": "stream",
     "text": [
      "Epoch 1\n",
      "-------------------------------\n",
      "Avg loss: 612.701294 \n",
      "\n",
      "Done!\n",
      "GPU time 190.9489 seconds\n"
     ]
    }
   ],
   "source": [
    "%%wandb\n",
    "\n",
    "#Timing the hardware difference\n",
    "tic = time.perf_counter()\n",
    "\n",
    "for t in range(epochs):\n",
    "    train(train_dataloader, model, optimizer)\n",
    "    test_loss = test(test_dataloader, model)\n",
    "    if t%20==0:\n",
    "        print(f\"Epoch {t+1}\\n-------------------------------\")    \n",
    "        print(f\"Avg loss: {test_loss:>8f} \\n\")\n",
    "print(\"Done!\")\n",
    "\n",
    "toc = time.perf_counter()\n",
    "if {device} == \"cpu\":\n",
    "    print(f\"CPU time {toc - tic:0.4f} seconds\")\n",
    "else:\n",
    "    print(f\"GPU time {toc - tic:0.4f} seconds\")"
   ]
  },
  {
   "cell_type": "markdown",
   "id": "440b14f0-3602-43e4-be6a-22f59c2b67fd",
   "metadata": {},
   "source": [
    "Now that we have trained our model we should save the model and the model weights."
   ]
  },
  {
   "cell_type": "code",
   "execution_count": 9,
   "id": "17df6a00-49b8-425e-8a6d-af8c6d1dc59b",
   "metadata": {},
   "outputs": [],
   "source": [
    "torch.save(model, model_name)\n",
    "torch.save(model.state_dict(), weights_name)"
   ]
  },
  {
   "cell_type": "markdown",
   "id": "c3bae366-437b-4776-bfd9-119d674cb3f5",
   "metadata": {},
   "source": [
    "## Plotting and Visualisation"
   ]
  },
  {
   "cell_type": "markdown",
   "id": "67bb0ed9-40f1-48ed-b240-450a260f82f9",
   "metadata": {},
   "source": [
    "Lets begin our visualisation by plotting some randomly chosen numbers before reconstruction and after reconstruction."
   ]
  },
  {
   "cell_type": "code",
   "execution_count": 10,
   "id": "4f618f45-b2cc-4a3e-8dd5-56e7070a050c",
   "metadata": {},
   "outputs": [
    {
     "data": {
      "image/png": "[encoded data removed]",
      "text/plain": [
       "<Figure size 1152x576 with 12 Axes>"
      ]
     },
     "metadata": {
      "needs_background": "light"
     },
     "output_type": "display_data"
    }
   ],
   "source": [
    "figure = plt.figure(figsize=(16, 8))\n",
    "cols, rows = 6, 2\n",
    "for i in range(1, cols +1):\n",
    "    sample_idx = torch.randint(len(training_data), size=(1,)).item()\n",
    "    img, label = training_data[sample_idx]\n",
    "    image = img.reshape(-1, 28*28)\n",
    "    image = image.to(device)\n",
    "    elbo, recon, kl, x_hat, z = model(image)\n",
    "    pred = x_hat.to(\"cpu\")\n",
    "    pred = pred.detach().numpy()\n",
    "    figure.add_subplot(rows, cols, i)\n",
    "    plt.title(\"Real\")\n",
    "    plt.axis(\"off\")\n",
    "    plt.imshow(img.squeeze(), cmap=\"gray\")\n",
    "    figure.add_subplot(rows, cols, i+cols)\n",
    "    plt.title(\"Decoded\")\n",
    "    plt.axis(\"off\")\n",
    "    plt.imshow(pred.reshape(1,28,28).transpose(1, 2, 0), cmap=\"gray\")\n",
    "plt.show()"
   ]
  },
  {
   "cell_type": "markdown",
   "id": "8c14304c-049f-48eb-9a05-05f2971e945c",
   "metadata": {},
   "source": [
    "Now lets investigate the latent space further. The plot below shows the latent space and where different MNIST numbers are located within it. They should be clustered by their number and centrally located around 0 as we directed them to be."
   ]
  },
  {
   "cell_type": "code",
   "execution_count": 22,
   "id": "df66e222-93d1-4adc-ad41-61b15e86ee33",
   "metadata": {},
   "outputs": [
    {
     "data": {
      "image/png": "[encoded data removed]",
      "text/plain": [
       "<Figure size 432x288 with 2 Axes>"
      ]
     },
     "metadata": {
      "needs_background": "light"
     },
     "output_type": "display_data"
    }
   ],
   "source": [
    "def plot_latent(model, dataloader, num_batches=100):\n",
    "    for (image, y) in dataloader:\n",
    "        image = image.reshape(-1, 28*28)\n",
    "        image = image.to(device)\n",
    "        elbo, recon, kl, x_hat, z = model(image)\n",
    "        z = z.to('cpu').detach().numpy()\n",
    "        plt.scatter(z[:, 0], z[:, 1], c=y, cmap='tab10')\n",
    "\n",
    "    plt.colorbar()\n",
    "            \n",
    "plot_latent(model, train_dataloader)"
   ]
  },
  {
   "cell_type": "markdown",
   "id": "4cd4490a-46aa-440a-b859-ff9973c49c75",
   "metadata": {},
   "source": [
    "Now lets do a linear interpolation between all the number, i.e. 1->2, 2->3 etc.\n",
    "We can do this by taking the latent space of 2 numbers (e.g. 1 and 2) and calculating the latent vector halfway between them."
   ]
  },
  {
   "cell_type": "code",
   "execution_count": null,
   "id": "448005f7-6295-47ab-a99c-ba1982ed3948",
   "metadata": {},
   "outputs": [],
   "source": [
    "number_array = []\n",
    "figure = plt.figure(figsize=(25, 12))\n",
    "cols, rows = 10 , 3\n",
    "\n",
    "for k in range(10):\n",
    "    for (image, y) in training_data:\n",
    "        if y==k:\n",
    "            number_array.append(image)\n",
    "            break\n",
    "    \n",
    "for l in range(1,10):\n",
    "    number_a = number_array[l-1].reshape(-1, 28*28)\n",
    "    number_a = number_a.to(device)\n",
    "    elbo, recon, kl, x_hat_a, z_a = model(number_a)\n",
    "    \n",
    "    number_b = number_array[l].reshape(-1, 28*28)\n",
    "    number_b = number_b.to(device)\n",
    "    elbo, recon, kl, x_hat_b, z_b = model(number_b)\n",
    "    \n",
    "    figure.add_subplot(rows, cols, l)\n",
    "    plt.title(str(l-1))\n",
    "    plt.axis(\"off\")\n",
    "    plt.imshow(x_hat_a.to(\"cpu\").detach().numpy().reshape(1,28,28).transpose(1, 2, 0), cmap=\"gray\")\n",
    "    \n",
    "    figure.add_subplot(rows, cols, l+(cols*2))\n",
    "    plt.title(str(l))\n",
    "    plt.axis(\"off\")\n",
    "    plt.imshow(x_hat_b.to(\"cpu\").detach().numpy().reshape(1,28,28).transpose(1, 2, 0), cmap=\"gray\")\n",
    "    \n",
    "    z_c = z_a*0.5 + z_b*0.5\n",
    "    number_c = z_c.to(device)\n",
    "    x_hat = model.decode(number_c)\n",
    "    figure.add_subplot(rows, cols, l+(cols))\n",
    "    plt.title(str(l-1)+\" merged with \"+str(l))\n",
    "    plt.axis(\"off\")\n",
    "    plt.imshow(x_hat.to(\"cpu\").detach().numpy().reshape(1,28,28).transpose(1, 2, 0), cmap=\"gray\")\n",
    "    \n",
    "plt.show()"
   ]
  },
  {
   "cell_type": "markdown",
   "id": "50a526f7-709f-4e61-82fd-59a52da361c5",
   "metadata": {},
   "source": [
    "For our last visualisation lets produce a square \"walk\" around the latent space. This is similar to the plot_latent() function above although with images rather than a scatter plot."
   ]
  },
  {
   "cell_type": "code",
   "execution_count": null,
   "id": "8319bc31-50ff-45ef-8a6a-2c150d6e9937",
   "metadata": {},
   "outputs": [],
   "source": [
    "def plot_reconstructed(autoencoder, r0=(-6, 5), r1=(-6, 5), n=12):\n",
    "    w = 28\n",
    "    img = np.zeros((n*w, n*w))\n",
    "    for i, y in enumerate(np.linspace(*r1, n)):\n",
    "        for j, x in enumerate(np.linspace(*r0, n)):\n",
    "            z = torch.Tensor([[x, y]]).to(device)\n",
    "            x_hat = autoencoder.decoder(z)\n",
    "            x_hat = x_hat.reshape(28, 28).to('cpu').detach().numpy()\n",
    "            img[(n-1-i)*w:(n-1-i+1)*w, j*w:(j+1)*w] = x_hat\n",
    "    plt.imshow(img, extent=[*r0, *r1], cmap=\"gray\")\n",
    "    \n",
    "plot_reconstructed(model2, (-6, 5), (-6, 5), 12)"
   ]
  },
  {
   "cell_type": "markdown",
   "id": "79649ff4-5390-42f8-94c9-eaf81cd7ef2b",
   "metadata": {},
   "source": [
    "If we wanted to reload the model at a latter date we could do so with the code below. Just make sure to run the classes up above first."
   ]
  },
  {
   "cell_type": "code",
   "execution_count": 21,
   "id": "cc08fa5a-1d97-4846-a050-372b5037df69",
   "metadata": {},
   "outputs": [
    {
     "data": {
      "text/plain": [
       "VAE(\n",
       "  (encoder): EncoderNeuralNetwork(\n",
       "    (network): Sequential(\n",
       "      (0): Linear(in_features=784, out_features=512, bias=True)\n",
       "      (1): ReLU()\n",
       "      (2): Linear(in_features=512, out_features=512, bias=True)\n",
       "      (3): ReLU()\n",
       "    )\n",
       "  )\n",
       "  (decoder): DecoderNeuralNetwork(\n",
       "    (network): Sequential(\n",
       "      (0): Linear(in_features=2, out_features=512, bias=True)\n",
       "      (1): ReLU()\n",
       "      (2): Linear(in_features=512, out_features=512, bias=True)\n",
       "      (3): ReLU()\n",
       "      (4): Linear(in_features=512, out_features=784, bias=True)\n",
       "    )\n",
       "  )\n",
       "  (fc_mu): Linear(in_features=512, out_features=2, bias=True)\n",
       "  (fc_var): Linear(in_features=512, out_features=2, bias=True)\n",
       ")"
      ]
     },
     "execution_count": 21,
     "metadata": {},
     "output_type": "execute_result"
    }
   ],
   "source": [
    "# Model class must be defined somewhere\n",
    "model = torch.load(model_name)\n",
    "model.load_state_dict(torch.load(weights_name))\n",
    "model.eval()"
   ]
  }
 ],
 "metadata": {
  "kernelspec": {
   "display_name": "Python 3 (ipykernel)",
   "language": "python",
   "name": "python3"
  },
  "language_info": {
   "codemirror_mode": {
    "name": "ipython",
    "version": 3
   },
   "file_extension": ".py",
   "mimetype": "text/x-python",
   "name": "python",
   "nbconvert_exporter": "python",
   "pygments_lexer": "ipython3",
   "version": "3.9.5"
  }
 },
 "nbformat": 4,
 "nbformat_minor": 5
}

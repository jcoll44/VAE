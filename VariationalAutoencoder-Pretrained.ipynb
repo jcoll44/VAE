{
 "cells": [
  {
   "cell_type": "markdown",
   "id": "3610d39a-715f-4a37-ae6c-7466e3f59eb7",
   "metadata": {},
   "source": [
    "# Variational Autoencoder\n",
    "\n",
    "Following several tutorials as listed below\n",
    "https://jaan.io/what-is-variational-autoencoder-vae-tutorial/\n",
    "https://towardsdatascience.com/intuitively-understanding-variational-autoencoders-1bfe67eb5daf\n",
    "https://medium.com/dataseries/variational-autoencoder-with-pytorch-2d359cbf027b\n",
    "\n",
    "Something I didn't realise initially was the difference between Variational Autoencoders and straight Autoencoders. As it so happens there is quite a large and destinct difference which relates fundamentally to whether the models are generative (variational) or discriminative (straight). Generative models appear to be more powerful than straight descriminative models but with that power comes additional complexities.\n",
    "\n",
    "In this first foray into generative models below I will hopefully learn to understand the difference and the benefits of such models.\n"
   ]
  },
  {
   "cell_type": "markdown",
   "id": "2139e45d-bac1-4c00-9ef1-7551529302e2",
   "metadata": {},
   "source": [
    "## Pytorch Implementation\n",
    "\n",
    "Using pytorch and the mnist dataset we will code this up.\n",
    "\n",
    "Import everything:"
   ]
  },
  {
   "cell_type": "code",
   "execution_count": 25,
   "id": "d92341ef-6c61-4cdd-9bf5-ae592b26c778",
   "metadata": {},
   "outputs": [
    {
     "name": "stdout",
     "output_type": "stream",
     "text": [
      "Defaulting to user installation because normal site-packages is not writeable\n",
      "Requirement already satisfied: lightning-bolts in ./jcollins/.local/lib/python3.9/site-packages (0.5.0)\n",
      "Requirement already satisfied: torchmetrics>=0.4.1 in ./jcollins/.local/lib/python3.9/site-packages (from lightning-bolts) (0.6.2)\n",
      "Requirement already satisfied: torch>=1.7.1 in /opt/conda/lib/python3.9/site-packages (from lightning-bolts) (1.10.1)\n",
      "Requirement already satisfied: pytorch-lightning>=1.4.0 in ./jcollins/.local/lib/python3.9/site-packages (from lightning-bolts) (1.5.8)\n",
      "Requirement already satisfied: packaging in /opt/conda/lib/python3.9/site-packages (from lightning-bolts) (21.3)\n",
      "Requirement already satisfied: PyYAML>=5.1 in ./jcollins/.local/lib/python3.9/site-packages (from pytorch-lightning>=1.4.0->lightning-bolts) (6.0)\n",
      "Requirement already satisfied: fsspec[http]!=2021.06.0,>=2021.05.0 in ./jcollins/.local/lib/python3.9/site-packages (from pytorch-lightning>=1.4.0->lightning-bolts) (2021.11.1)\n",
      "Requirement already satisfied: typing-extensions in /opt/conda/lib/python3.9/site-packages (from pytorch-lightning>=1.4.0->lightning-bolts) (3.10.0.2)\n",
      "Requirement already satisfied: future>=0.17.1 in ./jcollins/.local/lib/python3.9/site-packages (from pytorch-lightning>=1.4.0->lightning-bolts) (0.18.2)\n",
      "Requirement already satisfied: tqdm>=4.41.0 in /opt/conda/lib/python3.9/site-packages (from pytorch-lightning>=1.4.0->lightning-bolts) (4.62.3)\n",
      "Requirement already satisfied: tensorboard>=2.2.0 in ./jcollins/.local/lib/python3.9/site-packages (from pytorch-lightning>=1.4.0->lightning-bolts) (2.7.0)\n",
      "Requirement already satisfied: pyDeprecate==0.3.1 in ./jcollins/.local/lib/python3.9/site-packages (from pytorch-lightning>=1.4.0->lightning-bolts) (0.3.1)\n",
      "Requirement already satisfied: numpy>=1.17.2 in /opt/conda/lib/python3.9/site-packages (from pytorch-lightning>=1.4.0->lightning-bolts) (1.21.2)\n",
      "Requirement already satisfied: requests in /opt/conda/lib/python3.9/site-packages (from fsspec[http]!=2021.06.0,>=2021.05.0->pytorch-lightning>=1.4.0->lightning-bolts) (2.25.1)\n",
      "Requirement already satisfied: aiohttp in ./jcollins/.local/lib/python3.9/site-packages (from fsspec[http]!=2021.06.0,>=2021.05.0->pytorch-lightning>=1.4.0->lightning-bolts) (3.8.1)\n",
      "Requirement already satisfied: pyparsing!=3.0.5,>=2.0.2 in /opt/conda/lib/python3.9/site-packages (from packaging->lightning-bolts) (3.0.4)\n",
      "Requirement already satisfied: setuptools>=41.0.0 in /opt/conda/lib/python3.9/site-packages (from tensorboard>=2.2.0->pytorch-lightning>=1.4.0->lightning-bolts) (52.0.0.post20210125)\n",
      "Requirement already satisfied: grpcio>=1.24.3 in ./jcollins/.local/lib/python3.9/site-packages (from tensorboard>=2.2.0->pytorch-lightning>=1.4.0->lightning-bolts) (1.43.0)\n",
      "Requirement already satisfied: tensorboard-data-server<0.7.0,>=0.6.0 in ./jcollins/.local/lib/python3.9/site-packages (from tensorboard>=2.2.0->pytorch-lightning>=1.4.0->lightning-bolts) (0.6.1)\n",
      "Requirement already satisfied: markdown>=2.6.8 in ./jcollins/.local/lib/python3.9/site-packages (from tensorboard>=2.2.0->pytorch-lightning>=1.4.0->lightning-bolts) (3.3.6)\n",
      "Requirement already satisfied: tensorboard-plugin-wit>=1.6.0 in ./jcollins/.local/lib/python3.9/site-packages (from tensorboard>=2.2.0->pytorch-lightning>=1.4.0->lightning-bolts) (1.8.1)\n",
      "Requirement already satisfied: absl-py>=0.4 in ./jcollins/.local/lib/python3.9/site-packages (from tensorboard>=2.2.0->pytorch-lightning>=1.4.0->lightning-bolts) (1.0.0)\n",
      "Requirement already satisfied: protobuf>=3.6.0 in ./jcollins/.local/lib/python3.9/site-packages (from tensorboard>=2.2.0->pytorch-lightning>=1.4.0->lightning-bolts) (3.19.1)\n",
      "Requirement already satisfied: wheel>=0.26 in /opt/conda/lib/python3.9/site-packages (from tensorboard>=2.2.0->pytorch-lightning>=1.4.0->lightning-bolts) (0.36.2)\n",
      "Requirement already satisfied: werkzeug>=0.11.15 in ./jcollins/.local/lib/python3.9/site-packages (from tensorboard>=2.2.0->pytorch-lightning>=1.4.0->lightning-bolts) (2.0.2)\n",
      "Requirement already satisfied: google-auth-oauthlib<0.5,>=0.4.1 in ./jcollins/.local/lib/python3.9/site-packages (from tensorboard>=2.2.0->pytorch-lightning>=1.4.0->lightning-bolts) (0.4.6)\n",
      "Requirement already satisfied: google-auth<3,>=1.6.3 in ./jcollins/.local/lib/python3.9/site-packages (from tensorboard>=2.2.0->pytorch-lightning>=1.4.0->lightning-bolts) (2.3.3)\n",
      "Requirement already satisfied: six in /opt/conda/lib/python3.9/site-packages (from absl-py>=0.4->tensorboard>=2.2.0->pytorch-lightning>=1.4.0->lightning-bolts) (1.16.0)\n",
      "Requirement already satisfied: pyasn1-modules>=0.2.1 in ./jcollins/.local/lib/python3.9/site-packages (from google-auth<3,>=1.6.3->tensorboard>=2.2.0->pytorch-lightning>=1.4.0->lightning-bolts) (0.2.8)\n",
      "Requirement already satisfied: cachetools<5.0,>=2.0.0 in ./jcollins/.local/lib/python3.9/site-packages (from google-auth<3,>=1.6.3->tensorboard>=2.2.0->pytorch-lightning>=1.4.0->lightning-bolts) (4.2.4)\n",
      "Requirement already satisfied: rsa<5,>=3.1.4 in ./jcollins/.local/lib/python3.9/site-packages (from google-auth<3,>=1.6.3->tensorboard>=2.2.0->pytorch-lightning>=1.4.0->lightning-bolts) (4.8)\n",
      "Requirement already satisfied: requests-oauthlib>=0.7.0 in ./jcollins/.local/lib/python3.9/site-packages (from google-auth-oauthlib<0.5,>=0.4.1->tensorboard>=2.2.0->pytorch-lightning>=1.4.0->lightning-bolts) (1.3.0)\n",
      "Requirement already satisfied: importlib-metadata>=4.4 in /opt/conda/lib/python3.9/site-packages (from markdown>=2.6.8->tensorboard>=2.2.0->pytorch-lightning>=1.4.0->lightning-bolts) (4.8.2)\n",
      "Requirement already satisfied: zipp>=0.5 in /opt/conda/lib/python3.9/site-packages (from importlib-metadata>=4.4->markdown>=2.6.8->tensorboard>=2.2.0->pytorch-lightning>=1.4.0->lightning-bolts) (3.6.0)\n",
      "Requirement already satisfied: pyasn1<0.5.0,>=0.4.6 in ./jcollins/.local/lib/python3.9/site-packages (from pyasn1-modules>=0.2.1->google-auth<3,>=1.6.3->tensorboard>=2.2.0->pytorch-lightning>=1.4.0->lightning-bolts) (0.4.8)\n",
      "Requirement already satisfied: idna<3,>=2.5 in /opt/conda/lib/python3.9/site-packages (from requests->fsspec[http]!=2021.06.0,>=2021.05.0->pytorch-lightning>=1.4.0->lightning-bolts) (2.10)\n",
      "Requirement already satisfied: certifi>=2017.4.17 in /opt/conda/lib/python3.9/site-packages (from requests->fsspec[http]!=2021.06.0,>=2021.05.0->pytorch-lightning>=1.4.0->lightning-bolts) (2021.10.8)\n",
      "Requirement already satisfied: chardet<5,>=3.0.2 in /opt/conda/lib/python3.9/site-packages (from requests->fsspec[http]!=2021.06.0,>=2021.05.0->pytorch-lightning>=1.4.0->lightning-bolts) (4.0.0)\n",
      "Requirement already satisfied: urllib3<1.27,>=1.21.1 in /opt/conda/lib/python3.9/site-packages (from requests->fsspec[http]!=2021.06.0,>=2021.05.0->pytorch-lightning>=1.4.0->lightning-bolts) (1.26.6)\n",
      "Requirement already satisfied: oauthlib>=3.0.0 in ./jcollins/.local/lib/python3.9/site-packages (from requests-oauthlib>=0.7.0->google-auth-oauthlib<0.5,>=0.4.1->tensorboard>=2.2.0->pytorch-lightning>=1.4.0->lightning-bolts) (3.1.1)\n",
      "Requirement already satisfied: yarl<2.0,>=1.0 in ./jcollins/.local/lib/python3.9/site-packages (from aiohttp->fsspec[http]!=2021.06.0,>=2021.05.0->pytorch-lightning>=1.4.0->lightning-bolts) (1.7.2)\n",
      "Requirement already satisfied: attrs>=17.3.0 in /opt/conda/lib/python3.9/site-packages (from aiohttp->fsspec[http]!=2021.06.0,>=2021.05.0->pytorch-lightning>=1.4.0->lightning-bolts) (21.2.0)\n",
      "Requirement already satisfied: frozenlist>=1.1.1 in ./jcollins/.local/lib/python3.9/site-packages (from aiohttp->fsspec[http]!=2021.06.0,>=2021.05.0->pytorch-lightning>=1.4.0->lightning-bolts) (1.2.0)\n",
      "Requirement already satisfied: charset-normalizer<3.0,>=2.0 in ./jcollins/.local/lib/python3.9/site-packages (from aiohttp->fsspec[http]!=2021.06.0,>=2021.05.0->pytorch-lightning>=1.4.0->lightning-bolts) (2.0.10)\n",
      "Requirement already satisfied: async-timeout<5.0,>=4.0.0a3 in ./jcollins/.local/lib/python3.9/site-packages (from aiohttp->fsspec[http]!=2021.06.0,>=2021.05.0->pytorch-lightning>=1.4.0->lightning-bolts) (4.0.2)\n",
      "Requirement already satisfied: aiosignal>=1.1.2 in ./jcollins/.local/lib/python3.9/site-packages (from aiohttp->fsspec[http]!=2021.06.0,>=2021.05.0->pytorch-lightning>=1.4.0->lightning-bolts) (1.2.0)\n",
      "Requirement already satisfied: multidict<7.0,>=4.5 in ./jcollins/.local/lib/python3.9/site-packages (from aiohttp->fsspec[http]!=2021.06.0,>=2021.05.0->pytorch-lightning>=1.4.0->lightning-bolts) (5.2.0)\n"
     ]
    }
   ],
   "source": [
    "!pip install lightning-bolts\n",
    "\n",
    "import torch\n",
    "from torch import nn\n",
    "from torch.utils.data import DataLoader,Dataset\n",
    "from torchvision import datasets\n",
    "from torchvision.transforms import ToTensor, Lambda\n",
    "import torchvision.models as models\n",
    "import time\n",
    "import numpy as np\n",
    "import matplotlib.pyplot as plt\n",
    "from tqdm import tqdm\n",
    "from pl_bolts.models.autoencoders import VAE\n",
    "from pl_bolts.datamodules import CIFAR10DataModule"
   ]
  },
  {
   "cell_type": "markdown",
   "id": "6b2efc33-064b-4b19-9ec0-ac2870dd318e",
   "metadata": {},
   "source": [
    "Lets use weights and biases. You will need an account.\n",
    "If running this on a cluster with jupyter nbconvert then get rid of all wandb code as you are unable to sign in as below.\n",
    "There is probably a way around this that I haven't researched."
   ]
  },
  {
   "cell_type": "code",
   "execution_count": 44,
   "id": "0762ff01-037b-4079-8e42-e69c8a96341a",
   "metadata": {},
   "outputs": [],
   "source": [
    "import wandb"
   ]
  },
  {
   "cell_type": "markdown",
   "id": "7ea5b00f-408c-4041-9adf-dcf7a912fbaf",
   "metadata": {},
   "source": [
    "Edit the below cell to setup project global variables"
   ]
  },
  {
   "cell_type": "code",
   "execution_count": 40,
   "id": "0505fd44-ebd0-46e5-9b8e-b10be81bf4a8",
   "metadata": {},
   "outputs": [
    {
     "name": "stdout",
     "output_type": "stream",
     "text": [
      "['cifar10-resnet18', 'stl10-resnet18']\n",
      "Files already downloaded and verified\n",
      "Files already downloaded and verified\n",
      "torch.Size([4, 3, 32, 32])\n"
     ]
    }
   ],
   "source": [
    "vae = VAE(input_height=32)\n",
    "print(VAE.pretrained_weights_available())\n",
    "vae = vae.from_pretrained('cifar10-resnet18')\n",
    "\n",
    "vae.freeze()\n",
    "\n",
    "dm = CIFAR10DataModule(data_dir=\"data\", batch_size=4)\n",
    "dm.setup()\n",
    "dm.prepare_data()\n",
    "\n",
    "data_loader = dm.val_dataloader()\n",
    "\n",
    "for x, y in data_loader:\n",
    "    print(x.shape)\n",
    "    x = torch.reshape(x,[4,3,32,32])\n",
    "    image = vae(x)\n",
    "    break\n"
   ]
  },
  {
   "cell_type": "markdown",
   "id": "df5dfb20-2a61-4365-ba09-49e611a9b75d",
   "metadata": {},
   "source": [
    "Now, lets set up our MNIST dataset. This is a simple setup and uses built in functions that can be found almost line-for-line in the quickstart guide"
   ]
  },
  {
   "cell_type": "code",
   "execution_count": 33,
   "id": "ddefba48-92c5-49cd-8839-a241c55929f1",
   "metadata": {},
   "outputs": [
    {
     "name": "stdout",
     "output_type": "stream",
     "text": [
      "Files already downloaded and verified\n",
      "Files already downloaded and verified\n",
      "Shape of X [N, C, H, W]:  torch.Size([32, 3, 32, 32])\n",
      "Shape of y:  torch.Size([32]) torch.int64\n",
      "torch.Size([3, 32, 32])\n"
     ]
    }
   ],
   "source": [
    "training_data = datasets.CIFAR10(\n",
    "    root=\"data\",\n",
    "    train=True,\n",
    "    download=True,\n",
    "    transform=ToTensor()\n",
    ")\n",
    "\n",
    "test_data = datasets.CIFAR10(\n",
    "    root=\"data\",\n",
    "    train=False,\n",
    "    download=True,\n",
    "    transform=ToTensor()\n",
    ")\n",
    "\n",
    "train_dataloader = DataLoader(training_data, 32, shuffle=True)\n",
    "test_dataloader = DataLoader(test_data, 32)\n",
    "\n",
    "#Printing data\n",
    "for X, y in test_dataloader:\n",
    "    print(\"Shape of X [N, C, H, W]: \", X.shape)\n",
    "    print(\"Shape of y: \", y.shape, y.dtype)\n",
    "    break"
   ]
  },
  {
   "cell_type": "markdown",
   "id": "738222b4-0e8d-4ef8-ab36-3c8ababdabc9",
   "metadata": {},
   "source": [
    "Now that we have this class we can go about training the network."
   ]
  },
  {
   "cell_type": "markdown",
   "id": "f4a28797-fd5a-48b0-87ec-cdd2c01f36dd",
   "metadata": {},
   "source": [
    "Training and testing datasets"
   ]
  },
  {
   "cell_type": "code",
   "execution_count": 55,
   "id": "55772cce-6633-4666-8cca-89dec2f2779f",
   "metadata": {},
   "outputs": [
    {
     "name": "stdout",
     "output_type": "stream",
     "text": [
      "['cifar10-resnet18', 'stl10-resnet18']\n"
     ]
    },
    {
     "data": {
      "image/png": "[encoded data removed]",
      "text/plain": [
       "<Figure size 1152x576 with 12 Axes>"
      ]
     },
     "metadata": {
      "needs_background": "light"
     },
     "output_type": "display_data"
    },
    {
     "data": {
      "text/html": [
       "Finishing last run (ID:3kmt2a91) before initializing another..."
      ],
      "text/plain": [
       "<IPython.core.display.HTML object>"
      ]
     },
     "metadata": {},
     "output_type": "display_data"
    },
    {
     "data": {
      "text/html": [
       "<br/>Waiting for W&B process to finish, PID 765467... <strong style=\"color:green\">(success).</strong>"
      ],
      "text/plain": [
       "<IPython.core.display.HTML object>"
      ]
     },
     "metadata": {},
     "output_type": "display_data"
    },
    {
     "data": {
      "application/vnd.jupyter.widget-view+json": {
       "model_id": "",
       "version_major": 2,
       "version_minor": 0
      },
      "text/plain": [
       "VBox(children=(Label(value=' 0.00MB of 0.00MB uploaded (0.00MB deduped)\\r'), FloatProgress(value=1.0, max=1.0)…"
      ]
     },
     "metadata": {},
     "output_type": "display_data"
    },
    {
     "data": {
      "text/html": [
       "<style>\n",
       "    table.wandb td:nth-child(1) { padding: 0 10px; text-align: right }\n",
       "    .wandb-row { display: flex; flex-direction: row; flex-wrap: wrap; width: 100% }\n",
       "    .wandb-col { display: flex; flex-direction: column; flex-basis: 100%; flex: 1; padding: 10px; }\n",
       "    </style>\n",
       "<div class=\"wandb-row\"><div class=\"wandb-col\">\n",
       "</div><div class=\"wandb-col\">\n",
       "</div></div>\n",
       "Synced 5 W&B file(s), 0 media file(s), 0 artifact file(s) and 0 other file(s)\n",
       "<br/>Synced <strong style=\"color:#cdcd00\">tough-dawn-7</strong>: <a href=\"https://wandb.ai/jcoll44/VariationalAutoencoder-pretrained/runs/3kmt2a91\" target=\"_blank\">https://wandb.ai/jcoll44/VariationalAutoencoder-pretrained/runs/3kmt2a91</a><br/>\n",
       "Find logs at: <code>./wandb/run-20220110_142433-3kmt2a91/logs</code><br/>\n"
      ],
      "text/plain": [
       "<IPython.core.display.HTML object>"
      ]
     },
     "metadata": {},
     "output_type": "display_data"
    },
    {
     "data": {
      "text/html": [
       "Successfully finished last run (ID:3kmt2a91). Initializing new run:<br/>"
      ],
      "text/plain": [
       "<IPython.core.display.HTML object>"
      ]
     },
     "metadata": {},
     "output_type": "display_data"
    },
    {
     "name": "stderr",
     "output_type": "stream",
     "text": [
      "\u001b[34m\u001b[1mwandb\u001b[0m: wandb version 0.12.9 is available!  To upgrade, please run:\n",
      "\u001b[34m\u001b[1mwandb\u001b[0m:  $ pip install wandb --upgrade\n"
     ]
    },
    {
     "data": {
      "text/html": [
       "\n",
       "                    Syncing run <strong><a href=\"https://wandb.ai/jcoll44/VariationalAutoencoder-pretrained/runs/3u7rhjbi\" target=\"_blank\">effortless-firefly-8</a></strong> to <a href=\"https://wandb.ai/jcoll44/VariationalAutoencoder-pretrained\" target=\"_blank\">Weights & Biases</a> (<a href=\"https://docs.wandb.com/integrations/jupyter.html\" target=\"_blank\">docs</a>).<br/>\n",
       "\n",
       "                "
      ],
      "text/plain": [
       "<IPython.core.display.HTML object>"
      ]
     },
     "metadata": {},
     "output_type": "display_data"
    },
    {
     "data": {
      "image/png": "[encoded data removed]",
      "text/plain": [
       "<Figure size 432x288 with 1 Axes>"
      ]
     },
     "metadata": {
      "needs_background": "light"
     },
     "output_type": "display_data"
    },
    {
     "name": "stdout",
     "output_type": "stream",
     "text": [
      "[['Real', <wandb.sdk.data_types.Image object at 0x7f65ec35b460>], ['Decoded', <wandb.sdk.data_types.Image object at 0x7f65e80f6370>], ['Real', <wandb.sdk.data_types.Image object at 0x7f65ec38eb50>], ['Decoded', <wandb.sdk.data_types.Image object at 0x7f65ef3ff8b0>], ['Real', <wandb.sdk.data_types.Image object at 0x7f65eb6e77f0>], ['Decoded', <wandb.sdk.data_types.Image object at 0x7f65ebff1850>], ['Real', <wandb.sdk.data_types.Image object at 0x7f65f44a4580>], ['Decoded', <wandb.sdk.data_types.Image object at 0x7f65ef1e9d90>], ['Real', <wandb.sdk.data_types.Image object at 0x7f65ef256940>], ['Decoded', <wandb.sdk.data_types.Image object at 0x7f65e8284730>], ['Real', <wandb.sdk.data_types.Image object at 0x7f65e80181f0>], ['Decoded', <wandb.sdk.data_types.Image object at 0x7f65e8045a00>]]\n"
     ]
    },
    {
     "data": {
      "text/html": [
       "<br/>Waiting for W&B process to finish, PID 765603... <strong style=\"color:green\">(success).</strong>"
      ],
      "text/plain": [
       "<IPython.core.display.HTML object>"
      ]
     },
     "metadata": {},
     "output_type": "display_data"
    },
    {
     "data": {
      "application/vnd.jupyter.widget-view+json": {
       "model_id": "e9a6f5faaa504a8a892fed43c77e45f5",
       "version_major": 2,
       "version_minor": 0
      },
      "text/plain": [
       "VBox(children=(Label(value=' 0.03MB of 0.03MB uploaded (0.00MB deduped)\\r'), FloatProgress(value=1.0, max=1.0)…"
      ]
     },
     "metadata": {},
     "output_type": "display_data"
    }
   ],
   "source": [
    "figure = plt.figure(figsize=(16, 8))\n",
    "cols, rows = 6, 2\n",
    "\n",
    "vae = VAE(input_height=32)\n",
    "print(VAE.pretrained_weights_available())\n",
    "vae = vae.from_pretrained('cifar10-resnet18')\n",
    "\n",
    "vae.freeze()\n",
    "\n",
    "for i in range(1, cols +1):\n",
    "    sample_idx = torch.randint(len(training_data), size=(1,)).item()\n",
    "    img, label = training_data[sample_idx]\n",
    "    image = torch.reshape(img,[1,3,32,32])\n",
    "    pred = vae(image)\n",
    "    pred = torch.reshape(img,[32,32,3])\n",
    "    pred = pred.to(\"cpu\")\n",
    "    pred = pred.detach().numpy()\n",
    "    figure.add_subplot(rows, cols, i)\n",
    "    plt.title(\"Real\")\n",
    "    plt.axis(\"off\")\n",
    "    plt.imshow(img.reshape(3,32,32).permute(1, 2, 0))\n",
    "    figure.add_subplot(rows, cols, i+cols)\n",
    "    plt.title(\"Decoded\")\n",
    "    plt.axis(\"off\")\n",
    "    plt.imshow(pred.reshape(3,32,32).transpose(1, 2, 0))\n",
    "plt.show()\n",
    "\n",
    "wandb.init(project=\"VariationalAutoencoder-pretrained\",\n",
    "           config={\n",
    "           })\n",
    "\n",
    "my_data = []\n",
    "\n",
    "for i in range(1, cols +1):\n",
    "    sample_idx = torch.randint(len(training_data), size=(1,)).item()\n",
    "    img, label = training_data[sample_idx]\n",
    "    my_data.append([\"Real\", wandb.Image(img)])\n",
    "    image = torch.reshape(img,[1,3,32,32])\n",
    "    pred = vae(image)\n",
    "    pred = torch.reshape(img,[32,32,3])\n",
    "    pred = pred.to(\"cpu\")\n",
    "    pred = pred.detach().numpy()\n",
    "    figure.add_subplot(rows, cols, i)\n",
    "    plt.title(\"Real\")\n",
    "    plt.axis(\"off\")\n",
    "    plt.imshow(img.reshape(3,32,32).permute(1, 2, 0))\n",
    "    figure.add_subplot(rows, cols, i+cols)\n",
    "    plt.title(\"Decoded\")\n",
    "    plt.axis(\"off\")\n",
    "    plt.imshow(pred.reshape(3,32,32).transpose(1, 2, 0))\n",
    "    my_data.append([\"Decoded\", wandb.Image(pred.reshape(3,32,32).transpose(1, 2, 0))])\n",
    "plt.show()\n",
    "\n",
    "print(my_data)\n",
    "\n",
    "columns=[\"id\", \"image\"]\n",
    "test_table = wandb.Table(data=my_data, columns=columns)\n",
    "wandb.log({\"table_key\": test_table})\n",
    "\n",
    "\n",
    "  "
   ]
  },
  {
   "cell_type": "code",
   "execution_count": 14,
   "id": "98401e84-527b-4c3e-8017-cd6ef97d35a9",
   "metadata": {},
   "outputs": [],
   "source": [
    "\n",
    "torch.save(model, 'model.pth')\n",
    "torch.save(model.state_dict(), 'model_weights.pth')\n"
   ]
  },
  {
   "cell_type": "code",
   "execution_count": null,
   "id": "edc84ec5-33d0-423a-be43-4c1a15d303ed",
   "metadata": {},
   "outputs": [],
   "source": []
  }
 ],
 "metadata": {
  "kernelspec": {
   "display_name": "Python 3 (ipykernel)",
   "language": "python",
   "name": "python3"
  },
  "language_info": {
   "codemirror_mode": {
    "name": "ipython",
    "version": 3
   },
   "file_extension": ".py",
   "mimetype": "text/x-python",
   "name": "python",
   "nbconvert_exporter": "python",
   "pygments_lexer": "ipython3",
   "version": "3.9.5"
  }
 },
 "nbformat": 4,
 "nbformat_minor": 5
}
